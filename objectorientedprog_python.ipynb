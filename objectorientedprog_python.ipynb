{
  "nbformat": 4,
  "nbformat_minor": 0,
  "metadata": {
    "colab": {
      "name": "objectorientedprog_python.ipynb",
      "provenance": [],
      "collapsed_sections": [],
      "authorship_tag": "ABX9TyPQ8+084rxN313i+v0SJb8v",
      "include_colab_link": true
    },
    "kernelspec": {
      "name": "python3",
      "display_name": "Python 3"
    },
    "language_info": {
      "name": "python"
    }
  },
  "cells": [
    {
      "cell_type": "markdown",
      "metadata": {
        "id": "view-in-github",
        "colab_type": "text"
      },
      "source": [
        "<a href=\"https://colab.research.google.com/github/suraj-safi1/Object-Oriented-with-Python/blob/main/objectorientedprog_python.ipynb\" target=\"_parent\"><img src=\"https://colab.research.google.com/assets/colab-badge.svg\" alt=\"Open In Colab\"/></a>"
      ]
    },
    {
      "cell_type": "markdown",
      "source": [
        "OOPS - CODE REUSABILITY \n",
        "- DRY CONCEPT\n",
        "-BIG SCALE PROBLEM\n",
        "-PROVIDE  - ECAPSULATION \n",
        "          - ABSTRACTION\n",
        "          - POLYMORPHISM\n",
        "- CLASS - NO INSTACSE IN MEMORY\n"
      ],
      "metadata": {
        "id": "bnlqSjfJzRPo"
      }
    },
    {
      "cell_type": "code",
      "execution_count": null,
      "metadata": {
        "colab": {
          "base_uri": "https://localhost:8080/"
        },
        "id": "v2qnNmmDzLuZ",
        "outputId": "0479d7d0-8fa3-4197-e2af-9665e1682368"
      },
      "outputs": [
        {
          "output_type": "execute_result",
          "data": {
            "text/plain": [
              "46"
            ]
          },
          "metadata": {},
          "execution_count": 1
        }
      ],
      "source": [
        "class Number:\n",
        "  def sum(self):\n",
        "    return self.a+self.b\n",
        "num= Number()\n",
        "num.a=12\n",
        "num.b=34\n",
        "num.sum()\n"
      ]
    },
    {
      "cell_type": "code",
      "source": [
        "class RailwayForm:\n",
        "  formType=\"Railway Form\"\n",
        "  def prinData(self):\n",
        "    print(f'Name is {self.name}')\n",
        "    print(f'Train is {self.train}')\n",
        "surajApplication = RailwayForm()\n",
        "surajApplication.name='Suraj'\n",
        "surajApplication.train=\"Rajdhani Express\"\n",
        "surajApplication.prinData()"
      ],
      "metadata": {
        "colab": {
          "base_uri": "https://localhost:8080/"
        },
        "id": "pRGGKmQ_0Gy9",
        "outputId": "e0fb6bd0-cd36-4c64-9907-96bc435d2b16"
      },
      "execution_count": null,
      "outputs": [
        {
          "output_type": "stream",
          "name": "stdout",
          "text": [
            "Name is Suraj\n",
            "Train is Rajdhani Express\n"
          ]
        }
      ]
    },
    {
      "cell_type": "markdown",
      "source": [
        "MODELLING PROBLEM IN OOPS \n",
        "NOUN- CLASS-> EX-EMPLOYEE\n",
        "ADJECTIVE- ATTRIBUTES-> EX NAME ,AGE,SALARY\n",
        "VERB- METHODS->GETSALARY(),INCREMENT()\n"
      ],
      "metadata": {
        "id": "rCEU3fqY2ISW"
      }
    },
    {
      "cell_type": "markdown",
      "source": [
        "ATTRIBUTE-\n",
        "- CLASS ATTRIBUTE- DECLARE INSIDE CLASS\n",
        "-INSTANCE ATTRIBUTE- DECLARE AT INSTANCE"
      ],
      "metadata": {
        "id": "majDLa1J2fnp"
      }
    },
    {
      "cell_type": "code",
      "source": [
        "class Employee:\n",
        "  company=\"google\"\n",
        "suraj=Employee()\n",
        "rajni=Employee()\n",
        "print(suraj.company)# here value comes from class attribute\n",
        "print(rajni.company)# here value comes from class attribute\n",
        "Employee.company=\"You Tube\" #instance variable created\n",
        "print(suraj.company)# here value comes from instanceattribute\n",
        "print(rajni.company)# here value comes from instance attribute"
      ],
      "metadata": {
        "colab": {
          "base_uri": "https://localhost:8080/"
        },
        "id": "yDvWGXyk1548",
        "outputId": "29ab0268-fea7-4c73-a914-dc5aab861dd7"
      },
      "execution_count": null,
      "outputs": [
        {
          "output_type": "stream",
          "name": "stdout",
          "text": [
            "google\n",
            "google\n",
            "You Tube\n",
            "You Tube\n"
          ]
        }
      ]
    },
    {
      "cell_type": "code",
      "source": [
        "class Employee:\n",
        "  company=\"google\"\n",
        "  salary= 20000\n",
        "suraj=Employee()\n",
        "rajni=Employee()\n",
        "print(suraj.company)# here value comes from class attribute company\n",
        "print(suraj.salary)# here value comes from class attribute salary\n",
        "print(rajni.company)# here value comes from class attribute company\n",
        "print(rajni.salary)# here value comes from class attribute salary\n",
        "\n",
        "Employee.company=\"You Tube\" #instance variable created\n",
        "suraj.salary=10000 # creating instance value\n",
        "rajni.salary=15000 # creating instance value\n",
        "print(suraj.company)# here value comes from instanceattribute\n",
        "print(suraj.salary)# here value comes from class instance  salary\n",
        "print(rajni.company)# here value comes from instance attribute\n",
        "print(rajni.salary)# here value comes from class instance salary"
      ],
      "metadata": {
        "colab": {
          "base_uri": "https://localhost:8080/"
        },
        "id": "lBaLd3PB2yiN",
        "outputId": "02dcf105-f44d-4331-fc01-85496f6dbc6b"
      },
      "execution_count": null,
      "outputs": [
        {
          "output_type": "stream",
          "name": "stdout",
          "text": [
            "google\n",
            "20000\n",
            "google\n",
            "20000\n",
            "You Tube\n",
            "10000\n",
            "You Tube\n",
            "15000\n"
          ]
        }
      ]
    },
    {
      "cell_type": "markdown",
      "source": [
        "SELF PARAMETER\n",
        "-REFERS INSTANCE OF CLASS. IT IS AUTOMATICALLY PASSED WITH FUNCTION CALL FROM AN OBJECT."
      ],
      "metadata": {
        "id": "N65jNtre-Xdz"
      }
    },
    {
      "cell_type": "code",
      "source": [
        "class Emp:\n",
        "  company=\"Google\"\n",
        "  def getSalary(self,salary):\n",
        "    self.salary=salary\n",
        "    print(f\"salary is {self.salary}\")\n",
        "suraj=Emp()#\n",
        "suraj.getSalary(2000)\n"
      ],
      "metadata": {
        "colab": {
          "base_uri": "https://localhost:8080/"
        },
        "id": "LAMEpuUx-FBp",
        "outputId": "fa7aab77-93a0-414e-fae9-cd00b579d2b8"
      },
      "execution_count": null,
      "outputs": [
        {
          "output_type": "stream",
          "name": "stdout",
          "text": [
            "salary is 2000\n"
          ]
        }
      ]
    },
    {
      "cell_type": "markdown",
      "source": [
        "Static Method-\n",
        "- Sometimes we need a function that doesnot the self parameter. we can define stateic method -"
      ],
      "metadata": {
        "id": "f0lgAPeBB3qk"
      }
    },
    {
      "cell_type": "code",
      "source": [
        "class Empl:\n",
        "  company='google'\n",
        "  def getSalary(self,salary,signature):\n",
        "    self.salary=salary\n",
        "    self.signature=signature\n",
        "    print(f' Salary for this employee working in {self.company} is {self.salary}\\n {self.signature}')\n",
        "  @staticmethod #static method decorator\n",
        "  def greet():\n",
        "    print(\"Hello User!\")\n",
        "suraj=Empl()\n",
        "suraj.greet()\n",
        "suraj.getSalary(50000,'Nice Day!')\n",
        "\n"
      ],
      "metadata": {
        "id": "isJy-DCbACKD",
        "colab": {
          "base_uri": "https://localhost:8080/"
        },
        "outputId": "6bfb9110-89ef-4bbc-d1e0-d8c4ecdebe5f"
      },
      "execution_count": null,
      "outputs": [
        {
          "output_type": "stream",
          "name": "stdout",
          "text": [
            "Hello User!\n",
            " Salary for this employee working in google is 50000\n",
            " Nice Day!\n"
          ]
        }
      ]
    },
    {
      "cell_type": "markdown",
      "source": [
        "__init__()\n",
        "constructor -\n",
        "- it is a special method which is first run as soon as the object created.\n",
        "- __init__()--> method is also known as constructor\n",
        "- it takes self argument and can also take further arguments.\n"
      ],
      "metadata": {
        "id": "b1SsSDq9Deeu"
      }
    },
    {
      "cell_type": "code",
      "source": [
        "class Em:\n",
        "  def __init__(self):\n",
        "    print('Class is initialise')\n",
        "suraj=Em() #when ever object of class is created it is initialised\n"
      ],
      "metadata": {
        "colab": {
          "base_uri": "https://localhost:8080/"
        },
        "id": "ZJOOnjdtCZm8",
        "outputId": "a6727b1e-e87a-4d2c-9fe3-32cbb333db63"
      },
      "execution_count": null,
      "outputs": [
        {
          "output_type": "stream",
          "name": "stdout",
          "text": [
            "Class is initialise\n"
          ]
        }
      ]
    },
    {
      "cell_type": "code",
      "source": [
        "class Practice:\n",
        "  def __init__(self,name,salary,subunit):\n",
        "    self.name=name\n",
        "    self.salary=salary\n",
        "    self.subunit=subunit\n",
        "    print(\"Employee is created\")\n",
        "  def getDetails(self):\n",
        "    print(f'Name of employee {self.name} is having salary {self.salary} belongs to subunit {self.subunit}')\n",
        "suraj=Practice('suraj',50000,'Youtube')\n",
        "suraj.getDetails()\n",
        "ram=Practice('ram','35000','Git hub')\n",
        "ram.getDetails()"
      ],
      "metadata": {
        "colab": {
          "base_uri": "https://localhost:8080/"
        },
        "id": "njBHf0ZmFQjs",
        "outputId": "03ad4651-23f8-4903-859f-da57a2914e9c"
      },
      "execution_count": null,
      "outputs": [
        {
          "output_type": "stream",
          "name": "stdout",
          "text": [
            "Employee is created\n",
            "Employee is created\n",
            "Name of employee suraj is having salary 50000 belongs to subunit Youtube\n",
            "Name of employee ram is having salary 35000 belongs to subunit Git hub\n"
          ]
        }
      ]
    },
    {
      "cell_type": "markdown",
      "source": [
        "PRACTICE SET\n",
        "1- CREATE A CLASS PROGRAMMER FOR STORINGINFORMATION OF FEW PROGRAMMER WORKING AT MICROSOFT"
      ],
      "metadata": {
        "id": "FXTcdtGuPJFe"
      }
    },
    {
      "cell_type": "code",
      "source": [
        "class Programmer:\n",
        "  company=\"Microsoft\"\n",
        "  def __init__(self,name,product):\n",
        "    self.name=name\n",
        "    self.product=product\n",
        "  def getInfo(self):\n",
        "    print(f'The name of programmer is {self.name} and the product is working with {self.product}')\n",
        "suraj=Programmer('Suraj','Office 2021')\n",
        "suraj.getInfo()"
      ],
      "metadata": {
        "colab": {
          "base_uri": "https://localhost:8080/"
        },
        "id": "ohGPFejGPXEG",
        "outputId": "3e59b672-d5d6-4967-fd74-e3c7f1b52987"
      },
      "execution_count": null,
      "outputs": [
        {
          "output_type": "stream",
          "name": "stdout",
          "text": [
            "The name of programmer is Suraj and the product is working with Office 2021\n"
          ]
        }
      ]
    },
    {
      "cell_type": "markdown",
      "source": [
        "PRACTICE SET 2- WRITE A CLSAA CALCULATOR CAPABLE OF FINDING SQUARE,CUBE AND SQUARE ROOT OF NUMBER."
      ],
      "metadata": {
        "id": "KHIwufvlQGJ5"
      }
    },
    {
      "cell_type": "code",
      "source": [
        "class Calculator:\n",
        "  def __init__(self,num):\n",
        "    self.num=num\n",
        "  def square(self):\n",
        "   print(f'Square of a number {self.num} is {self.num**2}')\n",
        "  def squareroot(self):\n",
        "    print(f'Squareroot of a number{self.num} is {self.num**0.5}')\n",
        "  def cube(self):\n",
        "    print(f'Cube of a number{self.num} is {self.num**3}')\n",
        "  \n",
        "number = Calculator(16)\n",
        "number.square()\n",
        "number.squareroot()\n",
        "number.cube()\n"
      ],
      "metadata": {
        "colab": {
          "base_uri": "https://localhost:8080/"
        },
        "id": "qnJEBNwXQCC6",
        "outputId": "65d1a205-9ee1-437f-8488-8e0c88ff5e20"
      },
      "execution_count": null,
      "outputs": [
        {
          "output_type": "stream",
          "name": "stdout",
          "text": [
            "Square of a number 16 is 256\n",
            "Squareroot of a number16 is 4.0\n",
            "Cube of a number16 is 4096\n"
          ]
        }
      ]
    },
    {
      "cell_type": "markdown",
      "source": [
        "practice set-3 \n",
        "CLASS ATTRIBUTE AND SAMPLE ATTRIBUTE\n"
      ],
      "metadata": {
        "id": "yTGKrXhXTklK"
      }
    },
    {
      "cell_type": "code",
      "source": [
        "class Sample:\n",
        "  a='Suraj'\n",
        "obj= Sample()\n",
        "obj.a='Rakesh'\n",
        "print(Sample.a) # to change name in class so write sample.a='Rakesh'\n",
        "print(obj.a)"
      ],
      "metadata": {
        "colab": {
          "base_uri": "https://localhost:8080/"
        },
        "id": "Yd_7aHeHRfph",
        "outputId": "17597c24-8213-4204-b9e0-411e4bc6bde8"
      },
      "execution_count": null,
      "outputs": [
        {
          "output_type": "stream",
          "name": "stdout",
          "text": [
            "Suraj\n",
            "Rakesh\n"
          ]
        }
      ]
    },
    {
      "cell_type": "markdown",
      "source": [
        "-USING GEET AS STATICT METHOD"
      ],
      "metadata": {
        "id": "uEnl3WSUUH9J"
      }
    },
    {
      "cell_type": "code",
      "source": [
        "class Hello:\n",
        "  @staticmethod\n",
        "  def greet():\n",
        "    print(\"Hello Dear!\")\n",
        "a=Hello()\n",
        "a.greet()"
      ],
      "metadata": {
        "id": "zELqNPC6UD30",
        "colab": {
          "base_uri": "https://localhost:8080/"
        },
        "outputId": "206f773e-dbba-4218-a9a0-a23648bb3dac"
      },
      "execution_count": null,
      "outputs": [
        {
          "output_type": "stream",
          "name": "stdout",
          "text": [
            "Hello Dear!\n"
          ]
        }
      ]
    },
    {
      "cell_type": "markdown",
      "source": [
        "- write a class train which has methods to book a ticket, get status(no of seats),get fare,information of train running order indian railway."
      ],
      "metadata": {
        "id": "IcD_UwCaKoll"
      }
    },
    {
      "cell_type": "code",
      "source": [
        "class Train:\n",
        "  seatavailable=\"Train having Only 20 seats \"\n",
        "  seatno=[1,2,3,4,5,6,7,8,9,10,11,12,13,14,15,16,17,18,19,20]\n",
        "  def __init__(self,name,fare,seats):\n",
        "    self.name=name\n",
        "    self.fare=fare\n",
        "    self.seats=seats\n",
        "    self.seatno=[1,2,3,4,5,6,7,8,9,10,11,12,13,14,15,16,17,18,19,20]\n",
        "  def getStatus(self):\n",
        "    print(f'the name of the train is {self.name}')\n",
        "    print(f'the seat available in the tain is {self.seats}')\n",
        "    \n",
        "  def fareInfo(self): \n",
        "    print(f'the seat fare is : Rs. {self.fare}')\n",
        "  def bookTicket(self):\n",
        "    if(self.seats>0):\n",
        "      print(f' Your ticket has been booked! Your seat number is {self.seats}')\n",
        "      self.seats=self.seats-1\n",
        "      self.seatno.pop(self.seats)\n",
        "      print(self.seatno)\n",
        "    else:\n",
        "      print(\"Sorry this train is full kindly try in tatkal\")\n",
        "\n",
        "  def cancelTicket(self):\n",
        "    cancel=int(input(\"Enter seat no to cancel\" ))\n",
        "    if cancel>20:\n",
        "      print('enter correct seat no')\n",
        "    if cancel in self.seatno:\n",
        "      print(\"Enter valid seat no\")\n",
        "    if cancel<=20:\n",
        "      self.seatno.append(cancel)  \n",
        "  \n",
        "  def SeatAvailable(self):\n",
        "    print(f'List of available seat is :{self.seatno}')\n",
        "  \n",
        "      \n",
        "\n",
        "\n",
        "intercity=Train(\"Purnagiri\",1000,20)\n",
        "intercity.bookTicket()\n",
        "intercity.bookTicket()\n",
        "intercity.bookTicket()\n",
        "intercity.bookTicket()\n",
        "intercity.bookTicket()\n",
        "intercity.bookTicket()\n",
        "intercity.bookTicket()\n",
        "intercity.bookTicket()\n",
        "intercity.bookTicket()\n",
        "intercity.bookTicket()\n",
        "intercity.bookTicket()\n",
        "intercity.bookTicket()\n",
        "intercity.bookTicket()\n",
        "intercity.bookTicket()\n",
        "intercity.bookTicket()\n",
        "intercity.bookTicket()\n",
        "intercity.bookTicket()\n",
        "intercity.bookTicket()\n",
        "intercity.bookTicket()\n",
        "intercity.bookTicket()\n",
        "intercity.fareInfo()\n",
        "intercity.getStatus()\n",
        "intercity.cancelTicket()\n",
        "intercity.SeatAvailable()\n"
      ],
      "metadata": {
        "colab": {
          "base_uri": "https://localhost:8080/"
        },
        "id": "8DRBzp3nGJp-",
        "outputId": "88b0baa9-8596-4fe9-a0fc-5cb6d1f4763a"
      },
      "execution_count": null,
      "outputs": [
        {
          "output_type": "stream",
          "name": "stdout",
          "text": [
            " Your ticket has been booked! Your seat number is 20\n",
            "[1, 2, 3, 4, 5, 6, 7, 8, 9, 10, 11, 12, 13, 14, 15, 16, 17, 18, 19]\n",
            " Your ticket has been booked! Your seat number is 19\n",
            "[1, 2, 3, 4, 5, 6, 7, 8, 9, 10, 11, 12, 13, 14, 15, 16, 17, 18]\n",
            " Your ticket has been booked! Your seat number is 18\n",
            "[1, 2, 3, 4, 5, 6, 7, 8, 9, 10, 11, 12, 13, 14, 15, 16, 17]\n",
            " Your ticket has been booked! Your seat number is 17\n",
            "[1, 2, 3, 4, 5, 6, 7, 8, 9, 10, 11, 12, 13, 14, 15, 16]\n",
            " Your ticket has been booked! Your seat number is 16\n",
            "[1, 2, 3, 4, 5, 6, 7, 8, 9, 10, 11, 12, 13, 14, 15]\n",
            " Your ticket has been booked! Your seat number is 15\n",
            "[1, 2, 3, 4, 5, 6, 7, 8, 9, 10, 11, 12, 13, 14]\n",
            " Your ticket has been booked! Your seat number is 14\n",
            "[1, 2, 3, 4, 5, 6, 7, 8, 9, 10, 11, 12, 13]\n",
            " Your ticket has been booked! Your seat number is 13\n",
            "[1, 2, 3, 4, 5, 6, 7, 8, 9, 10, 11, 12]\n",
            " Your ticket has been booked! Your seat number is 12\n",
            "[1, 2, 3, 4, 5, 6, 7, 8, 9, 10, 11]\n",
            " Your ticket has been booked! Your seat number is 11\n",
            "[1, 2, 3, 4, 5, 6, 7, 8, 9, 10]\n",
            " Your ticket has been booked! Your seat number is 10\n",
            "[1, 2, 3, 4, 5, 6, 7, 8, 9]\n",
            " Your ticket has been booked! Your seat number is 9\n",
            "[1, 2, 3, 4, 5, 6, 7, 8]\n",
            " Your ticket has been booked! Your seat number is 8\n",
            "[1, 2, 3, 4, 5, 6, 7]\n",
            " Your ticket has been booked! Your seat number is 7\n",
            "[1, 2, 3, 4, 5, 6]\n",
            " Your ticket has been booked! Your seat number is 6\n",
            "[1, 2, 3, 4, 5]\n",
            " Your ticket has been booked! Your seat number is 5\n",
            "[1, 2, 3, 4]\n",
            " Your ticket has been booked! Your seat number is 4\n",
            "[1, 2, 3]\n",
            " Your ticket has been booked! Your seat number is 3\n",
            "[1, 2]\n",
            " Your ticket has been booked! Your seat number is 2\n",
            "[1]\n",
            " Your ticket has been booked! Your seat number is 1\n",
            "[]\n",
            "the seat fare is : Rs. 1000\n",
            "the name of the train is Purnagiri\n",
            "the seat available in the tain is 0\n",
            "Enter seat no to cancel8\n",
            "List of available seat is :[8]\n"
          ]
        }
      ]
    },
    {
      "cell_type": "code",
      "source": [
        ""
      ],
      "metadata": {
        "id": "Uf8uaJkuPz86"
      },
      "execution_count": null,
      "outputs": []
    }
  ]
}